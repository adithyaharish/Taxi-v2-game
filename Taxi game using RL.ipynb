{
 "cells": [
  {
   "cell_type": "code",
   "execution_count": 2,
   "metadata": {
    "colab": {
     "base_uri": "https://localhost:8080/"
    },
    "id": "UZpL5cbC0vms",
    "outputId": "178923a1-80eb-4653-eb96-d8d603190696"
   },
   "outputs": [
    {
     "name": "stdout",
     "output_type": "stream",
     "text": [
      "Collecting keras-rl\n",
      "  Downloading keras-rl-0.4.2.tar.gz (40 kB)\n",
      "\u001b[?25l\r",
      "\u001b[K     |████████                        | 10 kB 24.1 MB/s eta 0:00:01\r",
      "\u001b[K     |████████████████▏               | 20 kB 27.8 MB/s eta 0:00:01\r",
      "\u001b[K     |████████████████████████▎       | 30 kB 12.1 MB/s eta 0:00:01\r",
      "\u001b[K     |████████████████████████████████| 40 kB 3.8 MB/s \n",
      "\u001b[?25hRequirement already satisfied: keras>=2.0.7 in /usr/local/lib/python3.7/dist-packages (from keras-rl) (2.6.0)\n",
      "Building wheels for collected packages: keras-rl\n",
      "  Building wheel for keras-rl (setup.py) ... \u001b[?25l\u001b[?25hdone\n",
      "  Created wheel for keras-rl: filename=keras_rl-0.4.2-py3-none-any.whl size=48380 sha256=3b594e6b6e942fa454e6e2e2d6148617dd7d6ac50bddc1dc0c1c70e3bb35c338\n",
      "  Stored in directory: /root/.cache/pip/wheels/d3/23/e9/278c2e59c322236e2bfdf7c792c16f0b4dec24816d27a3f1e4\n",
      "Successfully built keras-rl\n",
      "Installing collected packages: keras-rl\n",
      "Successfully installed keras-rl-0.4.2\n"
     ]
    }
   ],
   "source": [
    "pip install keras-rl"
   ]
  },
  {
   "cell_type": "markdown",
   "metadata": {
    "id": "l5Uf48s_-AHF"
   },
   "source": [
    "Importing packages"
   ]
  },
  {
   "cell_type": "code",
   "execution_count": 3,
   "metadata": {
    "id": "POYnsbdA0MlS"
   },
   "outputs": [],
   "source": [
    "import gym # openAi gym\n",
    "from gym import envs\n",
    "import numpy as np \n",
    "import datetime\n",
    "import keras \n",
    "import matplotlib.pyplot as plt\n",
    "import seaborn as sns\n",
    "%matplotlib inline\n",
    "import pandas as pd \n",
    "from time import sleep\n",
    "\n",
    "from rl.agents.dqn import DQNAgent\n",
    "from rl.policy import LinearAnnealedPolicy, BoltzmannQPolicy, EpsGreedyQPolicy\n",
    "from rl.memory import SequentialMemory\n",
    "from rl.core import Processor\n",
    "from rl.callbacks import FileLogger, ModelIntervalCheckpoint\n",
    "import warnings\n",
    "warnings.filterwarnings('ignore')"
   ]
  },
  {
   "cell_type": "code",
   "execution_count": 5,
   "metadata": {
    "colab": {
     "base_uri": "https://localhost:8080/"
    },
    "id": "Ph88BHCe00F-",
    "outputId": "5e4a45dd-5c27-407d-fa4e-4be0d5353b99"
   },
   "outputs": [
    {
     "name": "stdout",
     "output_type": "stream",
     "text": [
      "+---------+\n",
      "|R: | : :\u001b[34;1mG\u001b[0m|\n",
      "| : | : : |\n",
      "| : : :\u001b[43m \u001b[0m: |\n",
      "| | : | : |\n",
      "|\u001b[35mY\u001b[0m| : |B: |\n",
      "+---------+\n",
      "\n"
     ]
    }
   ],
   "source": [
    "env = gym.make('Taxi-v3')\n",
    "env.reset()\n",
    "env.render()"
   ]
  },
  {
   "cell_type": "code",
   "execution_count": 6,
   "metadata": {
    "colab": {
     "base_uri": "https://localhost:8080/"
    },
    "id": "OHmK0zA51AFc",
    "outputId": "25e7d8f0-c41b-4eac-a974-ea635d9fa2cc"
   },
   "outputs": [
    {
     "data": {
      "text/plain": [
       "500"
      ]
     },
     "execution_count": 6,
     "metadata": {},
     "output_type": "execute_result"
    }
   ],
   "source": [
    "env.observation_space.n"
   ]
  },
  {
   "cell_type": "code",
   "execution_count": 7,
   "metadata": {
    "colab": {
     "base_uri": "https://localhost:8080/"
    },
    "id": "iRk4Xh_x1BOW",
    "outputId": "6d48d084-f491-499a-de6a-4bad57093d53"
   },
   "outputs": [
    {
     "data": {
      "text/plain": [
       "6"
      ]
     },
     "execution_count": 7,
     "metadata": {},
     "output_type": "execute_result"
    }
   ],
   "source": [
    "env.action_space.n"
   ]
  },
  {
   "cell_type": "code",
   "execution_count": 8,
   "metadata": {
    "colab": {
     "base_uri": "https://localhost:8080/"
    },
    "id": "0c0x-LsB1Fah",
    "outputId": "df2ab6b6-ac37-4a92-d5a7-420395efc67e"
   },
   "outputs": [
    {
     "name": "stdout",
     "output_type": "stream",
     "text": [
      "+---------+\n",
      "|\u001b[34;1mR\u001b[0m: | : :G|\n",
      "| :\u001b[43m \u001b[0m| : : |\n",
      "| : : : : |\n",
      "| | : | : |\n",
      "|\u001b[35mY\u001b[0m| : |B: |\n",
      "+---------+\n",
      "\n"
     ]
    }
   ],
   "source": [
    "env.env.s = 122\n",
    "env.render()"
   ]
  },
  {
   "cell_type": "code",
   "execution_count": 9,
   "metadata": {
    "colab": {
     "base_uri": "https://localhost:8080/"
    },
    "id": "m7V-qVxj1H9R",
    "outputId": "a33b1fe2-a172-426a-aa5c-1fde802badcc"
   },
   "outputs": [
    {
     "data": {
      "text/plain": [
       "(102, -1, False, {'prob': 1.0})"
      ]
     },
     "execution_count": 9,
     "metadata": {},
     "output_type": "execute_result"
    }
   ],
   "source": [
    "env.step(3)"
   ]
  },
  {
   "cell_type": "code",
   "execution_count": 10,
   "metadata": {
    "colab": {
     "base_uri": "https://localhost:8080/"
    },
    "id": "p2RLgGFG1MK7",
    "outputId": "71fa0c15-34a3-4580-c4ef-725ee3c8af67"
   },
   "outputs": [
    {
     "name": "stdout",
     "output_type": "stream",
     "text": [
      "+---------+\n",
      "|\u001b[34;1mR\u001b[0m: | : :G|\n",
      "|\u001b[43m \u001b[0m: | : : |\n",
      "| : : : : |\n",
      "| | : | : |\n",
      "|\u001b[35mY\u001b[0m| : |B: |\n",
      "+---------+\n",
      "  (West)\n"
     ]
    }
   ],
   "source": [
    "env.render()"
   ]
  },
  {
   "cell_type": "code",
   "execution_count": 11,
   "metadata": {
    "colab": {
     "base_uri": "https://localhost:8080/"
    },
    "id": "34a62UzG1OqP",
    "outputId": "009eb61b-faf1-4d43-962d-1fc85e67c72c"
   },
   "outputs": [
    {
     "data": {
      "text/plain": [
       "{0: [(1.0, 400, -1, False)],\n",
       " 1: [(1.0, 200, -1, False)],\n",
       " 2: [(1.0, 300, -1, False)],\n",
       " 3: [(1.0, 300, -1, False)],\n",
       " 4: [(1.0, 300, -10, False)],\n",
       " 5: [(1.0, 300, -10, False)]}"
      ]
     },
     "execution_count": 11,
     "metadata": {},
     "output_type": "execute_result"
    }
   ],
   "source": [
    "env.reset()\n",
    "env.env.P[300]"
   ]
  },
  {
   "cell_type": "markdown",
   "metadata": {
    "id": "A-loSDxF1SEg"
   },
   "source": [
    "RANDOM SEARCH"
   ]
  },
  {
   "cell_type": "code",
   "execution_count": 13,
   "metadata": {
    "id": "-PaRK4021RuQ"
   },
   "outputs": [],
   "source": [
    "env = gym.make('Taxi-v3')\n",
    "random_policy = np.ones([env.env.nS, env.env.nA]) / env.env.nA\n",
    "def random_policy_steps_count():\n",
    "    state = env.reset()\n",
    "    counter = 0\n",
    "    reward = None\n",
    "    while reward != 20:\n",
    "        state, reward, done, info = env.step(env.action_space.sample())  \n",
    "        counter += 1\n",
    "    return counter"
   ]
  },
  {
   "cell_type": "code",
   "execution_count": 14,
   "metadata": {
    "colab": {
     "base_uri": "https://localhost:8080/",
     "height": 298
    },
    "id": "WUfS2vIg1Xqj",
    "outputId": "5d017168-450b-4193-fc00-5fda4e2f6efb"
   },
   "outputs": [
    {
     "data": {
      "text/plain": [
       "Text(0.5, 1.0, 'Distribution of number of steps needed')"
      ]
     },
     "execution_count": 14,
     "metadata": {},
     "output_type": "execute_result"
    },
    {
     "data": {
      "image/png": "[encoded data removed]",
      "text/plain": [
       "<Figure size 432x288 with 1 Axes>"
      ]
     },
     "metadata": {
      "needs_background": "light"
     },
     "output_type": "display_data"
    }
   ],
   "source": [
    "counts = [random_policy_steps_count() for i in range(1000)]\n",
    "sns.distplot(counts)\n",
    "plt.title(\"Distribution of number of steps needed\")"
   ]
  },
  {
   "cell_type": "code",
   "execution_count": 15,
   "metadata": {
    "colab": {
     "base_uri": "https://localhost:8080/"
    },
    "id": "1f5ALIeu1tVK",
    "outputId": "8a9dd036-261d-4b8c-e272-42d69fa19548"
   },
   "outputs": [
    {
     "name": "stdout",
     "output_type": "stream",
     "text": [
      "An agent using Random search takes about an average of 2443 steps to successfully complete its mission.\n"
     ]
    }
   ],
   "source": [
    "print(\"An agent using Random search takes about an average of \" + str(int(np.mean(counts)))\n",
    "      + \" steps to successfully complete its mission.\")"
   ]
  },
  {
   "cell_type": "markdown",
   "metadata": {
    "id": "Uwd-x9QGEH9s"
   },
   "source": [
    "Policy Iteration/Value Iteration"
   ]
  },
  {
   "cell_type": "code",
   "execution_count": 16,
   "metadata": {
    "id": "UHDEl5BL2x4z"
   },
   "outputs": [],
   "source": [
    "def policy_eval(policy, env, discount_factor=1.0, theta=0.00001):\n",
    "    \"\"\"\n",
    "    Evaluate a policy given an environment and a full description of the environment's dynamics.\n",
    "    \n",
    "    Args:\n",
    "        policy: [S, A] shaped matrix representing the policy.\n",
    "        env: OpenAI env. env.P represents the transition probabilities of the environment.\n",
    "            env.P[s][a] is a list of transition tuples (prob, next_state, reward, done).\n",
    "            env.nS is a number of states in the environment. \n",
    "            env.nA is a number of actions in the environment.\n",
    "        theta: We stop evaluation once our value function change is less than theta for all states.\n",
    "        discount_factor: Gamma discount factor.\n",
    "    \n",
    "    Returns:\n",
    "        Vector of length env.nS representing the value function.\n",
    "    \"\"\"\n",
    "    # Start with a random (all 0) value function\n",
    "    V = np.zeros(env.env.nS)\n",
    "    while True:\n",
    "        # TODO: Implement!\n",
    "        delta = 0  #delta = change in value of state from one iteration to next\n",
    "       \n",
    "        for state in range(env.env.nS):  #for all states\n",
    "            val = 0  #initiate value as 0\n",
    "            \n",
    "            for action,act_prob in enumerate(policy[state]): #for all actions/action probabilities\n",
    "                for prob,next_state,reward,done in env.env.P[state][action]:  #transition probabilities,state,rewards of each action\n",
    "                    val += act_prob * prob * (reward + discount_factor * V[next_state])  #eqn to calculate\n",
    "            delta = max(delta, np.abs(val-V[state]))\n",
    "            V[state] = val\n",
    "        if delta < theta:  #break if the change in value is less than the threshold (theta)\n",
    "            break\n",
    "    return np.array(V)\n",
    "\n",
    "def policy_iteration(env, policy_eval_fn=policy_eval, discount_factor=1.0):\n",
    "    \"\"\"\n",
    "    Policy Improvement Algorithm. Iteratively evaluates and improves a policy\n",
    "    until an optimal policy is found.\n",
    "    \n",
    "    Args:\n",
    "        env: The OpenAI envrionment.\n",
    "        policy_eval_fn: Policy Evaluation function that takes 3 arguments:\n",
    "            policy, env, discount_factor.\n",
    "        discount_factor: gamma discount factor.\n",
    "        \n",
    "    Returns:\n",
    "        A tuple (policy, V). \n",
    "        policy is the optimal policy, a matrix of shape [S, A] where each state s\n",
    "        contains a valid probability distribution over actions.\n",
    "        V is the value function for the optimal policy.\n",
    "        \n",
    "    \"\"\"\n",
    "    def one_step_lookahead(state, V):\n",
    "        \"\"\"\n",
    "        Helper function to calculate the value for all action in a given state.\n",
    "        \n",
    "        Args:\n",
    "            state: The state to consider (int)\n",
    "            V: The value to use as an estimator, Vector of length env.nS\n",
    "        \n",
    "        Returns:\n",
    "            A vector of length env.nA containing the expected value of each action.\n",
    "        \"\"\"\n",
    "        A = np.zeros(env.env.nA)\n",
    "        for a in range(env.env.nA):\n",
    "            for prob, next_state, reward, done in env.env.P[state][a]:\n",
    "                A[a] += prob * (reward + discount_factor * V[next_state])\n",
    "        return A\n",
    "    # Start with a random policy\n",
    "    policy = np.ones([env.env.nS, env.env.nA]) / env.env.nA\n",
    "\n",
    "    while True:\n",
    "        # Implement this!\n",
    "        curr_pol_val = policy_eval_fn(policy, env, discount_factor)  #eval current policy\n",
    "        policy_stable = True  #Check if policy did improve (Set it as True first)\n",
    "        for state in range(env.env.nS):  #for each states\n",
    "            chosen_act = np.argmax(policy[state])  #best action (Highest prob) under current policy\n",
    "            act_values = one_step_lookahead(state,curr_pol_val)  #use one step lookahead to find action values\n",
    "            best_act = np.argmax(act_values) #find best action\n",
    "            if chosen_act != best_act:\n",
    "                policy_stable = False  #Greedily find best action\n",
    "            policy[state] = np.eye(env.env.nA)[best_act]  #update \n",
    "        if policy_stable:\n",
    "            return policy, curr_pol_val\n",
    "    \n",
    "    return policy, np.zeros(env.env.nS)\n",
    "\n",
    "def value_iteration(env, theta=0.0001, discount_factor=1.0):\n",
    "    \"\"\"\n",
    "    Value Iteration Algorithm.\n",
    "    \n",
    "    Args:\n",
    "        env: OpenAI env. env.P represents the transition probabilities of the environment.\n",
    "            env.P[s][a] is a list of transition tuples (prob, next_state, reward, done).\n",
    "            env.nS is a number of states in the environment. \n",
    "            env.nA is a number of actions in the environment.\n",
    "        theta: We stop evaluation once our value function change is less than theta for all states.\n",
    "        discount_factor: Gamma discount factor.\n",
    "        \n",
    "    Returns:\n",
    "        A tuple (policy, V) of the optimal policy and the optimal value function.        \n",
    "    \"\"\"\n",
    "    \n",
    "    def one_step_lookahead(state, V):\n",
    "        \"\"\"\n",
    "        Helper function to calculate the value for all action in a given state.\n",
    "        \n",
    "        Args:\n",
    "            state: The state to consider (int)\n",
    "            V: The value to use as an estimator, Vector of length env.nS\n",
    "        \n",
    "        Returns:\n",
    "            A vector of length env.nA containing the expected value of each action.\n",
    "        \"\"\"\n",
    "        A = np.zeros(env.env.nA)\n",
    "        for act in range(env.env.nA):\n",
    "            for prob, next_state, reward, done in env.env.P[state][act]:\n",
    "                A[act] += prob * (reward + discount_factor*V[next_state])\n",
    "        return A\n",
    "    \n",
    "    V = np.zeros(env.env.nS)\n",
    "    while True:\n",
    "        delta = 0  #checker for improvements across states\n",
    "        for state in range(env.env.nS):\n",
    "            act_values = one_step_lookahead(state,V)  #lookahead one step\n",
    "            best_act_value = np.max(act_values) #get best action value\n",
    "            delta = max(delta,np.abs(best_act_value - V[state]))  #find max delta across all states\n",
    "            V[state] = best_act_value  #update value to best action value\n",
    "        if delta < theta:  #if max improvement less than threshold\n",
    "            break\n",
    "    policy = np.zeros([env.env.nS, env.env.nA])\n",
    "    for state in range(env.env.nS):  #for all states, create deterministic policy\n",
    "        act_val = one_step_lookahead(state,V)\n",
    "        best_action = np.argmax(act_val)\n",
    "        policy[state][best_action] = 1\n",
    "        \n",
    "    \n",
    "    # Implement!\n",
    "    return policy, V"
   ]
  },
  {
   "cell_type": "code",
   "execution_count": 17,
   "metadata": {
    "colab": {
     "base_uri": "https://localhost:8080/"
    },
    "id": "ww9SViXO3ADY",
    "outputId": "6449bb53-321b-4ccc-89ab-9ff81af22d3a"
   },
   "outputs": [
    {
     "data": {
      "text/plain": [
       "array([-66.26438752, -71.80792647, -71.42078771, -71.82385699,\n",
       "       -79.85874125, -79.76644406, -79.85914609, -79.85320521,\n",
       "       -78.94845049, -78.98965515, -78.18067178, -78.9907127 ,\n",
       "       -79.89007096, -79.88569714, -79.8903011 , -79.81473063,\n",
       "       -58.97388718, -71.28332886, -70.42368566, -71.3187026 ,\n",
       "       -71.76849805, -75.09061994, -74.85861632, -75.10016676,\n",
       "       -79.84505188, -79.74379722, -79.84549601, -79.83897851,\n",
       "       -79.0763058 , -79.11250001, -78.40188794, -79.11342896,\n",
       "       -79.87942213, -79.87462379, -79.87967461, -79.79676993,\n",
       "       -67.0351757 , -74.29222689, -73.47645597, -74.33919453,\n",
       "       -79.64432128, -79.7878237 , -79.77780243, -79.78823608,\n",
       "       -77.71728288, -76.22431024, -77.72383134, -77.6277274 ,\n",
       "       -79.84088218, -79.84711324, -79.72477359, -79.84727316,\n",
       "       -79.40240042, -79.37859483, -79.40365295, -78.99236538,\n",
       "       -76.72709833, -73.48229756, -76.82709925, -76.20673132,\n",
       "       -79.71298147, -79.82877523, -79.82068901, -79.82910799,\n",
       "       -76.38748358, -74.02473134, -76.39784704, -76.24575444,\n",
       "       -79.87158884, -79.87661672, -79.77789955, -79.87674576,\n",
       "       -79.30102937, -79.27318456, -79.30249441, -78.82142263,\n",
       "       -75.55219553, -70.15967578, -75.62735378, -74.86496163,\n",
       "       -79.76168806, -79.85782522, -79.85111173, -79.85810149,\n",
       "       -72.65576951, -67.85222977, -72.67683868, -72.36762995,\n",
       "       -79.89337109, -79.89754543, -79.81558612, -79.89765256,\n",
       "       -79.2409748 , -79.21073709, -79.24256573, -78.72015248,\n",
       "       -72.19821246, -60.89899061, -72.24777279, -71.52043002,\n",
       "       -73.18695081, -75.93659571, -75.74457166, -75.9444974 ,\n",
       "       -79.82788064, -79.71539385, -79.82837404, -79.82113351,\n",
       "       -78.48858122, -78.54780851, -77.38498458, -78.54932861,\n",
       "       -79.86606356, -79.8607329 , -79.86634405, -79.77424271,\n",
       "       -68.56126094, -74.47092496, -72.8234386 , -74.52531866,\n",
       "       -74.67322901, -76.82302528, -76.67289231, -76.82920318,\n",
       "       -79.78247811, -79.64029037, -79.78310178, -79.77394935,\n",
       "       -78.91251199, -78.95512562, -78.11848039, -78.95621933,\n",
       "       -79.83074281, -79.82400454, -79.83109735, -79.71467745,\n",
       "       -71.00234836, -75.49870958, -74.46919892, -75.57210301,\n",
       "       -79.46338748, -79.67991558, -79.66479447, -79.68053782,\n",
       "       -78.32626882, -77.23161036, -78.3310702 , -78.26060616,\n",
       "       -79.75997413, -79.7693762 , -79.58477979, -79.76961751,\n",
       "       -79.31510154, -79.28781746, -79.31653708, -78.8451529 ,\n",
       "       -76.86849389, -74.74673805, -77.02491668, -76.35066721,\n",
       "       -79.6423343 , -79.78664283, -79.77656523, -79.78705753,\n",
       "       -77.64863869, -76.11076178, -77.65538411, -77.55638961,\n",
       "       -79.8399993 , -79.84626539, -79.72323843, -79.84642621,\n",
       "       -79.03902152, -79.0007372 , -79.04103582, -78.37960347,\n",
       "       -76.32673822, -72.99030053, -76.42638589, -75.24616466,\n",
       "       -79.73517423, -79.84201427, -79.83455331, -79.84232129,\n",
       "       -76.53609928, -74.27054666, -76.5460364 , -76.40020063,\n",
       "       -79.88151732, -79.88615642, -79.79507255, -79.88627549,\n",
       "       -78.94126345, -78.89908398, -78.94348269, -78.21475494,\n",
       "       -75.39665938, -70.23214104, -75.46476355, -74.12464886,\n",
       "       -76.47178875, -77.8956975 , -77.79625772, -77.89978941,\n",
       "       -79.78811504, -79.649617  , -79.78872253, -79.77980762,\n",
       "       -77.12753384, -77.24010088, -75.03004953, -77.24298997,\n",
       "       -79.83512731, -79.82856391, -79.83547265, -79.72207382,\n",
       "       -72.09535248, -74.88475147, -71.3111872 , -74.95634234,\n",
       "       -77.38213209, -78.43863743, -78.36485562, -78.44167352,\n",
       "       -79.6058454 , -79.3481219 , -79.60697583, -79.59038622,\n",
       "       -78.82926446, -78.8751409 , -77.97443696, -78.87631834,\n",
       "       -79.69332791, -79.68111415, -79.69397054, -79.48295226,\n",
       "       -74.56927418, -76.31154627, -75.36116281, -76.45354205,\n",
       "       -78.9340869 , -79.3642379 , -79.3341982 , -79.36547403,\n",
       "       -79.08437437, -78.48556663, -79.08700086, -79.04845527,\n",
       "       -79.52328016, -79.54195839, -79.17524159, -79.54243778,\n",
       "       -79.2876356 , -79.25925716, -79.28912872, -78.7988375 ,\n",
       "       -76.56278091, -76.10872363, -76.88179731, -76.44671716,\n",
       "       -79.54487492, -79.72851857, -79.71569395, -79.7290463 ,\n",
       "       -78.60219512, -77.68800521, -78.60620494, -78.54735784,\n",
       "       -79.79641855, -79.8043927 , -79.64783128, -79.80459736,\n",
       "       -78.29525236, -78.22733356, -78.29882583, -77.12540647,\n",
       "       -76.32965135, -74.60908253, -76.46002447, -74.14319435,\n",
       "       -79.71789861, -79.83171226, -79.82376428, -79.83203933,\n",
       "       -78.21005266, -77.03937356, -78.21518748, -78.13982989,\n",
       "       -79.87379368, -79.8787356 , -79.78170648, -79.87886244,\n",
       "       -78.20948304, -78.13814675, -78.21323632, -76.98077382,\n",
       "       -76.21136509, -73.722569  , -76.28797616, -73.7520019 ,\n",
       "       -77.73215357, -78.64738538, -78.58346966, -78.65001549,\n",
       "       -79.86375328, -79.77473277, -79.86414375, -79.85841378,\n",
       "       -73.15770263, -73.42584765, -68.16130993, -73.43272971,\n",
       "       -79.89397076, -79.88975222, -79.89419273, -79.82130513,\n",
       "       -70.65935562, -72.25647944, -63.00516226, -72.29747018,\n",
       "       -78.62275885, -79.17855774, -79.13974331, -79.18015495,\n",
       "       -79.64397575, -79.4111886 , -79.6449968 , -79.63001236,\n",
       "       -79.38405638, -79.40819061, -78.93435498, -79.40881003,\n",
       "       -79.72299376, -79.71196178, -79.72357421, -79.53297329,\n",
       "       -76.90167619, -77.58925281, -77.31759907, -77.71909888,\n",
       "       -79.00937758, -79.40914192, -79.38122431, -79.41029073,\n",
       "       -79.5140721 , -79.19631556, -79.51546585, -79.49501183,\n",
       "       -79.55694919, -79.57430793, -79.23349674, -79.57475346,\n",
       "       -79.6219324 , -79.60687354, -79.62272472, -79.36255255,\n",
       "       -77.39829209, -77.53872901, -77.69641516, -77.71740116,\n",
       "       -79.74148344, -79.84577784, -79.83849466, -79.84607755,\n",
       "       -79.02432945, -78.38624177, -79.02712823, -78.98605413,\n",
       "       -79.88433968, -79.88886825, -79.79995459, -79.88898448,\n",
       "       -76.10655435, -75.95143011, -76.11471601, -73.43467085,\n",
       "       -75.05868769, -73.91236589, -75.12607545, -69.27839998,\n",
       "       -79.78458873, -79.87148743, -79.86541908, -79.87173715,\n",
       "       -78.92664306, -78.22465992, -78.9297221 , -78.88453497,\n",
       "       -79.90361746, -79.90739065, -79.83330737, -79.90748749,\n",
       "       -76.82653269, -76.70009474, -76.83318505, -74.6487457 ,\n",
       "       -75.71139695, -74.34416017, -75.76694583, -71.01513379,\n",
       "       -78.27640159, -78.97197743, -78.92340165, -78.97397632,\n",
       "       -79.8964148 , -79.82875959, -79.89671155, -79.8923569 ,\n",
       "       -67.02718796, -67.53558847, -57.55407827, -67.54863676,\n",
       "       -79.91937998, -79.91617399, -79.91954868, -79.86415457,\n",
       "       -66.27372105, -67.1829247 , -49.33238573, -67.20625974,\n",
       "       -79.04188594, -79.42852873, -79.4015275 , -79.42963983,\n",
       "       -79.69961969, -79.5032262 , -79.70048111, -79.68783937,\n",
       "       -79.57148454, -79.58827349, -79.25864886, -79.58870439,\n",
       "       -79.76628411, -79.7569769 , -79.76677382, -79.60597128,\n",
       "       -77.75907781, -78.15622813, -78.04817878, -78.26610241,\n",
       "       -79.15848773, -79.4980725 , -79.47435761, -79.49904838,\n",
       "       -79.660445  , -79.43842579, -79.66141882, -79.64712751,\n",
       "       -79.62362932, -79.63837488, -79.3488687 , -79.63875334,\n",
       "       -79.7358079 , -79.72528622, -79.7363615 , -79.55457713,\n",
       "       -77.90885311, -78.14099305, -78.16242714, -78.26559265,\n",
       "       -79.81338361, -79.8886599 , -79.88340322, -79.88887622,\n",
       "       -79.23607674, -78.73648507, -79.23826805, -79.20610909,\n",
       "       -79.91649274, -79.91976126, -79.85558646, -79.91984515,\n",
       "       -71.96840065, -71.64839797, -71.98523712, -66.45663001,\n",
       "       -71.57462981, -70.86147358, -71.61215143, -59.29113267,\n",
       "       -79.82638585, -79.89641584, -79.89152554, -79.89661709,\n",
       "       -79.20661795, -78.68775621, -79.20889379, -79.17549438,\n",
       "       -79.92230893, -79.92534964, -79.86564746, -79.92542768,\n",
       "       -75.16143796, -74.96865681, -75.17158087, -71.84094727,\n",
       "       -74.50986535, -73.61151385, -74.5500549 , -67.1776962 ])"
      ]
     },
     "execution_count": 17,
     "metadata": {},
     "output_type": "execute_result"
    }
   ],
   "source": [
    "env = gym.make('Taxi-v3')\n",
    "random_policy = np.ones([env.env.nS, env.env.nA]) / env.env.nA\n",
    "policy_eval(random_policy,env,discount_factor=0.95)"
   ]
  },
  {
   "cell_type": "code",
   "execution_count": 18,
   "metadata": {
    "colab": {
     "base_uri": "https://localhost:8080/"
    },
    "id": "zOQqAU5w3EGG",
    "outputId": "9da31946-062c-4300-f95b-6a2c97ed1253"
   },
   "outputs": [
    {
     "data": {
      "text/plain": [
       "array([[0., 0., 0., 0., 1., 0.],\n",
       "       [0., 0., 0., 0., 1., 0.],\n",
       "       [0., 0., 0., 0., 1., 0.],\n",
       "       ...,\n",
       "       [0., 1., 0., 0., 0., 0.],\n",
       "       [0., 1., 0., 0., 0., 0.],\n",
       "       [0., 0., 0., 1., 0., 0.]])"
      ]
     },
     "execution_count": 18,
     "metadata": {},
     "output_type": "execute_result"
    }
   ],
   "source": [
    "pol_iter_policy = policy_iteration(env,policy_eval,discount_factor=0.99)\n",
    "pol_iter_policy[0]"
   ]
  },
  {
   "cell_type": "code",
   "execution_count": 19,
   "metadata": {
    "colab": {
     "base_uri": "https://localhost:8080/"
    },
    "id": "ZBbzTiru3b3a",
    "outputId": "2896bc5f-8530-42ac-c08c-87c5a51ea6a3"
   },
   "outputs": [
    {
     "data": {
      "text/plain": [
       "array([[0., 0., 0., 0., 1., 0.],\n",
       "       [0., 0., 0., 0., 1., 0.],\n",
       "       [0., 0., 0., 0., 1., 0.],\n",
       "       ...,\n",
       "       [0., 1., 0., 0., 0., 0.],\n",
       "       [0., 1., 0., 0., 0., 0.],\n",
       "       [0., 0., 0., 1., 0., 0.]])"
      ]
     },
     "execution_count": 19,
     "metadata": {},
     "output_type": "execute_result"
    }
   ],
   "source": [
    "val_iter_policy = value_iteration(env,discount_factor=0.99)\n",
    "val_iter_policy[0]"
   ]
  },
  {
   "cell_type": "code",
   "execution_count": 20,
   "metadata": {
    "colab": {
     "base_uri": "https://localhost:8080/"
    },
    "id": "whB-XV1l3pSH",
    "outputId": "2cb0fdfd-70ac-4808-b0cc-fc841f95e3fe"
   },
   "outputs": [
    {
     "name": "stdout",
     "output_type": "stream",
     "text": [
      "Same Policy\n"
     ]
    }
   ],
   "source": [
    "for x in range(len(pol_iter_policy[0])):\n",
    "    if not (pol_iter_policy[0][x] == val_iter_policy[0][x]).all():\n",
    "        print(\"Not the same Policy\")\n",
    "        break\n",
    "print(\"Same Policy\")"
   ]
  },
  {
   "cell_type": "code",
   "execution_count": 21,
   "metadata": {
    "id": "AMHQrfAi3r1Q"
   },
   "outputs": [],
   "source": [
    "def count(policy):\n",
    "    curr_state = env.reset()\n",
    "    counter = 0\n",
    "    reward = None\n",
    "    while reward != 20:\n",
    "        state, reward, done, info = env.step(np.argmax(policy[curr_state]))  \n",
    "        curr_state = state\n",
    "        counter += 1\n",
    "    return counter"
   ]
  },
  {
   "cell_type": "code",
   "execution_count": 22,
   "metadata": {
    "colab": {
     "base_uri": "https://localhost:8080/",
     "height": 298
    },
    "id": "APxY3cAL3uXm",
    "outputId": "5a2b4ecf-34ec-4d84-fa15-ae33117de412"
   },
   "outputs": [
    {
     "name": "stdout",
     "output_type": "stream",
     "text": [
      "An agent using a policy which has been improved using policy-iterated takes about an average of 13 steps to successfully complete its mission.\n"
     ]
    },
    {
     "data": {
      "text/plain": [
       "<matplotlib.axes._subplots.AxesSubplot at 0x7f20df937850>"
      ]
     },
     "execution_count": 22,
     "metadata": {},
     "output_type": "execute_result"
    },
    {
     "data": {
      "image/png": "[encoded data removed]",
      "text/plain": [
       "<Figure size 432x288 with 1 Axes>"
      ]
     },
     "metadata": {
      "needs_background": "light"
     },
     "output_type": "display_data"
    }
   ],
   "source": [
    "pol_count = count(pol_iter_policy[0])\n",
    "pol_counts = [count(pol_iter_policy[0]) for i in range(10000)]\n",
    "print(\"An agent using a policy which has been improved using policy-iterated takes about an average of \" + str(int(np.mean(pol_counts)))\n",
    "      + \" steps to successfully complete its mission.\")\n",
    "sns.distplot(pol_counts)"
   ]
  },
  {
   "cell_type": "code",
   "execution_count": 23,
   "metadata": {
    "colab": {
     "base_uri": "https://localhost:8080/",
     "height": 298
    },
    "id": "zZBitXXh3w6R",
    "outputId": "fbe682b5-9f8c-4d84-fc63-f63e00259b3d"
   },
   "outputs": [
    {
     "name": "stdout",
     "output_type": "stream",
     "text": [
      "An agent using a policy which has been value-iterated takes about an average of 13 steps to successfully complete its mission.\n"
     ]
    },
    {
     "data": {
      "text/plain": [
       "<matplotlib.axes._subplots.AxesSubplot at 0x7f20df3faed0>"
      ]
     },
     "execution_count": 23,
     "metadata": {},
     "output_type": "execute_result"
    },
    {
     "data": {
      "image/png": "[encoded data removed]",
      "text/plain": [
       "<Figure size 432x288 with 1 Axes>"
      ]
     },
     "metadata": {
      "needs_background": "light"
     },
     "output_type": "display_data"
    }
   ],
   "source": [
    "val_count = count(val_iter_policy[0])\n",
    "val_counts = [count(val_iter_policy[0]) for i in range(10000)]\n",
    "print(\"An agent using a policy which has been value-iterated takes about an average of \" + str(int(np.mean(val_counts)))\n",
    "      + \" steps to successfully complete its mission.\")\n",
    "sns.distplot(val_counts)"
   ]
  },
  {
   "cell_type": "markdown",
   "metadata": {
    "id": "7gufnbOk3z7S"
   },
   "source": [
    "Q-learning"
   ]
  },
  {
   "cell_type": "code",
   "execution_count": 24,
   "metadata": {
    "id": "w4CpwwOB3zmc"
   },
   "outputs": [],
   "source": [
    "import random\n",
    "from IPython.display import clear_output\n",
    "\n",
    "def Q_learning_train(env,alpha,gamma,epsilon,episodes): \n",
    "    \"\"\"Q Learning Algorithm with epsilon greedy \n",
    "\n",
    "    Args:\n",
    "        env: Environment \n",
    "        alpha: Learning Rate --> Extent to which our Q-values are being updated in every iteration.\n",
    "        gamma: Discount Rate --> How much importance we want to give to future rewards\n",
    "        epsilon: Probability of selecting random action instead of the 'optimal' action\n",
    "        episodes: No. of episodes to train on\n",
    "\n",
    "    Returns:\n",
    "        Q-learning Trained policy\n",
    "\n",
    "    \"\"\"\n",
    "    %%time\n",
    "    \"\"\"Training the agent\"\"\"\n",
    "\n",
    "    # For plotting metrics\n",
    "    all_epochs = []\n",
    "    all_penalties = []\n",
    "    \n",
    "    #Initialize Q table of 500 x 6 size (500 states and 6 actions) with all zeroes\n",
    "    q_table = np.zeros([env.observation_space.n, env.action_space.n])  \n",
    "    \n",
    "    for i in range(1, episodes+1):\n",
    "        state = env.reset()\n",
    "\n",
    "        epochs, penalties, reward, = 0, 0, 0\n",
    "        done = False\n",
    "\n",
    "        while not done:\n",
    "            if random.uniform(0, 1) < epsilon:\n",
    "                action = env.action_space.sample() # Explore action space randomly\n",
    "            else:\n",
    "                action = np.argmax(q_table[state]) # Exploit learned values by choosing optimal values\n",
    "\n",
    "            next_state, reward, done, info = env.step(action) \n",
    "\n",
    "            old_value = q_table[state, action]\n",
    "            next_max = np.max(q_table[next_state])\n",
    "\n",
    "            new_value = (1 - alpha) * old_value + alpha * (reward + gamma * next_max)\n",
    "            q_table[state, action] = new_value\n",
    "\n",
    "            if reward == -10:\n",
    "                penalties += 1\n",
    "\n",
    "            state = next_state\n",
    "            epochs += 1\n",
    "\n",
    "        if i % 100 == 0:\n",
    "            clear_output(wait=True)\n",
    "            print(f\"Episode: {i}\")\n",
    "    # Start with a random policy\n",
    "    policy = np.ones([env.env.nS, env.env.nA]) / env.env.nA\n",
    "\n",
    "    for state in range(env.env.nS):  #for each states\n",
    "        best_act = np.argmax(q_table[state]) #find best action\n",
    "        policy[state] = np.eye(env.env.nA)[best_act]  #update \n",
    "        \n",
    "    print(\"Training finished.\\n\")\n",
    "    return policy, q_table"
   ]
  },
  {
   "cell_type": "code",
   "execution_count": 25,
   "metadata": {
    "colab": {
     "base_uri": "https://localhost:8080/"
    },
    "id": "FjriD_4l344s",
    "outputId": "aa60bd8f-297f-4bd3-ed08-31c35030a55f"
   },
   "outputs": [
    {
     "name": "stdout",
     "output_type": "stream",
     "text": [
      "Episode: 100000\n",
      "Training finished.\n",
      "\n"
     ]
    }
   ],
   "source": [
    "env = gym.make('Taxi-v3')\n",
    "env.reset()\n",
    "Q_learn_pol = Q_learning_train(env,0.2,0.95,0.1,100000)"
   ]
  },
  {
   "cell_type": "code",
   "execution_count": 26,
   "metadata": {
    "colab": {
     "base_uri": "https://localhost:8080/",
     "height": 298
    },
    "id": "OzIHD3yM6AZ-",
    "outputId": "f7acb5a6-2634-4a6e-877b-f47684d25678"
   },
   "outputs": [
    {
     "name": "stdout",
     "output_type": "stream",
     "text": [
      "An agent using a policy which has been improved using Q-learning takes about an average of 12 steps to successfully complete its mission.\n"
     ]
    },
    {
     "data": {
      "text/plain": [
       "<matplotlib.axes._subplots.AxesSubplot at 0x7f20df423350>"
      ]
     },
     "execution_count": 26,
     "metadata": {},
     "output_type": "execute_result"
    },
    {
     "data": {
      "image/png": "[encoded data removed]",
      "text/plain": [
       "<Figure size 432x288 with 1 Axes>"
      ]
     },
     "metadata": {
      "needs_background": "light"
     },
     "output_type": "display_data"
    }
   ],
   "source": [
    "Q_Learning_counts = count(Q_learn_pol[0])\n",
    "Q_counts = [count(Q_learn_pol[0]) for i in range(1000)]\n",
    "print(\"An agent using a policy which has been improved using Q-learning takes about an average of \" + str(int(np.mean(Q_counts)))\n",
    "      + \" steps to successfully complete its mission.\")\n",
    "sns.distplot(Q_counts)"
   ]
  },
  {
   "cell_type": "markdown",
   "metadata": {
    "id": "kg5AXTVu6E9R"
   },
   "source": [
    "Result"
   ]
  },
  {
   "cell_type": "code",
   "execution_count": 27,
   "metadata": {
    "id": "SyT79t5F6Eo_"
   },
   "outputs": [],
   "source": [
    "def view_policy(policy):\n",
    "    curr_state = env.reset()\n",
    "    counter = 0\n",
    "    reward = None\n",
    "    while reward != 20:\n",
    "        state, reward, done, info = env.step(np.argmax(policy[0][curr_state])) \n",
    "        curr_state = state\n",
    "        counter += 1\n",
    "        env.env.s = curr_state\n",
    "        env.render()"
   ]
  },
  {
   "cell_type": "code",
   "execution_count": 28,
   "metadata": {
    "colab": {
     "base_uri": "https://localhost:8080/"
    },
    "id": "UE7c4_7_6Iml",
    "outputId": "b4496ffb-9e82-4472-fe6e-70af8b69ed70"
   },
   "outputs": [
    {
     "name": "stdout",
     "output_type": "stream",
     "text": [
      "+---------+\n",
      "|\u001b[34;1mR\u001b[0m: | : :G|\n",
      "| : | : : |\n",
      "| : : : : |\n",
      "| | : | :\u001b[43m \u001b[0m|\n",
      "|Y| : |\u001b[35mB\u001b[0m: |\n",
      "+---------+\n",
      "  (North)\n",
      "+---------+\n",
      "|\u001b[34;1mR\u001b[0m: | : :G|\n",
      "| : | : : |\n",
      "| : : : :\u001b[43m \u001b[0m|\n",
      "| | : | : |\n",
      "|Y| : |\u001b[35mB\u001b[0m: |\n",
      "+---------+\n",
      "  (North)\n",
      "+---------+\n",
      "|\u001b[34;1mR\u001b[0m: | : :G|\n",
      "| : | : : |\n",
      "| : : :\u001b[43m \u001b[0m: |\n",
      "| | : | : |\n",
      "|Y| : |\u001b[35mB\u001b[0m: |\n",
      "+---------+\n",
      "  (West)\n",
      "+---------+\n",
      "|\u001b[34;1mR\u001b[0m: | : :G|\n",
      "| : | : : |\n",
      "| : :\u001b[43m \u001b[0m: : |\n",
      "| | : | : |\n",
      "|Y| : |\u001b[35mB\u001b[0m: |\n",
      "+---------+\n",
      "  (West)\n",
      "+---------+\n",
      "|\u001b[34;1mR\u001b[0m: | : :G|\n",
      "| : | : : |\n",
      "| :\u001b[43m \u001b[0m: : : |\n",
      "| | : | : |\n",
      "|Y| : |\u001b[35mB\u001b[0m: |\n",
      "+---------+\n",
      "  (West)\n",
      "+---------+\n",
      "|\u001b[34;1mR\u001b[0m: | : :G|\n",
      "| :\u001b[43m \u001b[0m| : : |\n",
      "| : : : : |\n",
      "| | : | : |\n",
      "|Y| : |\u001b[35mB\u001b[0m: |\n",
      "+---------+\n",
      "  (North)\n",
      "+---------+\n",
      "|\u001b[34;1mR\u001b[0m:\u001b[43m \u001b[0m| : :G|\n",
      "| : | : : |\n",
      "| : : : : |\n",
      "| | : | : |\n",
      "|Y| : |\u001b[35mB\u001b[0m: |\n",
      "+---------+\n",
      "  (North)\n",
      "+---------+\n",
      "|\u001b[34;1m\u001b[43mR\u001b[0m\u001b[0m: | : :G|\n",
      "| : | : : |\n",
      "| : : : : |\n",
      "| | : | : |\n",
      "|Y| : |\u001b[35mB\u001b[0m: |\n",
      "+---------+\n",
      "  (West)\n",
      "+---------+\n",
      "|\u001b[42mR\u001b[0m: | : :G|\n",
      "| : | : : |\n",
      "| : : : : |\n",
      "| | : | : |\n",
      "|Y| : |\u001b[35mB\u001b[0m: |\n",
      "+---------+\n",
      "  (Pickup)\n",
      "+---------+\n",
      "|R: | : :G|\n",
      "|\u001b[42m_\u001b[0m: | : : |\n",
      "| : : : : |\n",
      "| | : | : |\n",
      "|Y| : |\u001b[35mB\u001b[0m: |\n",
      "+---------+\n",
      "  (South)\n",
      "+---------+\n",
      "|R: | : :G|\n",
      "| : | : : |\n",
      "|\u001b[42m_\u001b[0m: : : : |\n",
      "| | : | : |\n",
      "|Y| : |\u001b[35mB\u001b[0m: |\n",
      "+---------+\n",
      "  (South)\n",
      "+---------+\n",
      "|R: | : :G|\n",
      "| : | : : |\n",
      "| :\u001b[42m_\u001b[0m: : : |\n",
      "| | : | : |\n",
      "|Y| : |\u001b[35mB\u001b[0m: |\n",
      "+---------+\n",
      "  (East)\n",
      "+---------+\n",
      "|R: | : :G|\n",
      "| : | : : |\n",
      "| : :\u001b[42m_\u001b[0m: : |\n",
      "| | : | : |\n",
      "|Y| : |\u001b[35mB\u001b[0m: |\n",
      "+---------+\n",
      "  (East)\n",
      "+---------+\n",
      "|R: | : :G|\n",
      "| : | : : |\n",
      "| : : :\u001b[42m_\u001b[0m: |\n",
      "| | : | : |\n",
      "|Y| : |\u001b[35mB\u001b[0m: |\n",
      "+---------+\n",
      "  (East)\n",
      "+---------+\n",
      "|R: | : :G|\n",
      "| : | : : |\n",
      "| : : : : |\n",
      "| | : |\u001b[42m_\u001b[0m: |\n",
      "|Y| : |\u001b[35mB\u001b[0m: |\n",
      "+---------+\n",
      "  (South)\n",
      "+---------+\n",
      "|R: | : :G|\n",
      "| : | : : |\n",
      "| : : : : |\n",
      "| | : | : |\n",
      "|Y| : |\u001b[35m\u001b[42mB\u001b[0m\u001b[0m: |\n",
      "+---------+\n",
      "  (South)\n",
      "+---------+\n",
      "|R: | : :G|\n",
      "| : | : : |\n",
      "| : : : : |\n",
      "| | : | : |\n",
      "|Y| : |\u001b[35m\u001b[34;1m\u001b[43mB\u001b[0m\u001b[0m\u001b[0m: |\n",
      "+---------+\n",
      "  (Dropoff)\n"
     ]
    }
   ],
   "source": [
    "view_policy(pol_iter_policy)"
   ]
  },
  {
   "cell_type": "code",
   "execution_count": 29,
   "metadata": {
    "colab": {
     "base_uri": "https://localhost:8080/"
    },
    "id": "BNHVO7N86Pzq",
    "outputId": "ae66e5c4-4c37-4bcf-c948-ce189d754df4"
   },
   "outputs": [
    {
     "name": "stdout",
     "output_type": "stream",
     "text": [
      "+---------+\n",
      "|R: | : :\u001b[35mG\u001b[0m|\n",
      "| : | : : |\n",
      "| : : : : |\n",
      "| | :\u001b[43m \u001b[0m| : |\n",
      "|\u001b[34;1mY\u001b[0m| : |B: |\n",
      "+---------+\n",
      "  (North)\n",
      "+---------+\n",
      "|R: | : :\u001b[35mG\u001b[0m|\n",
      "| : | : : |\n",
      "| : :\u001b[43m \u001b[0m: : |\n",
      "| | : | : |\n",
      "|\u001b[34;1mY\u001b[0m| : |B: |\n",
      "+---------+\n",
      "  (North)\n",
      "+---------+\n",
      "|R: | : :\u001b[35mG\u001b[0m|\n",
      "| : | : : |\n",
      "| :\u001b[43m \u001b[0m: : : |\n",
      "| | : | : |\n",
      "|\u001b[34;1mY\u001b[0m| : |B: |\n",
      "+---------+\n",
      "  (West)\n",
      "+---------+\n",
      "|R: | : :\u001b[35mG\u001b[0m|\n",
      "| : | : : |\n",
      "|\u001b[43m \u001b[0m: : : : |\n",
      "| | : | : |\n",
      "|\u001b[34;1mY\u001b[0m| : |B: |\n",
      "+---------+\n",
      "  (West)\n",
      "+---------+\n",
      "|R: | : :\u001b[35mG\u001b[0m|\n",
      "| : | : : |\n",
      "| : : : : |\n",
      "|\u001b[43m \u001b[0m| : | : |\n",
      "|\u001b[34;1mY\u001b[0m| : |B: |\n",
      "+---------+\n",
      "  (South)\n",
      "+---------+\n",
      "|R: | : :\u001b[35mG\u001b[0m|\n",
      "| : | : : |\n",
      "| : : : : |\n",
      "| | : | : |\n",
      "|\u001b[34;1m\u001b[43mY\u001b[0m\u001b[0m| : |B: |\n",
      "+---------+\n",
      "  (South)\n",
      "+---------+\n",
      "|R: | : :\u001b[35mG\u001b[0m|\n",
      "| : | : : |\n",
      "| : : : : |\n",
      "| | : | : |\n",
      "|\u001b[42mY\u001b[0m| : |B: |\n",
      "+---------+\n",
      "  (Pickup)\n",
      "+---------+\n",
      "|R: | : :\u001b[35mG\u001b[0m|\n",
      "| : | : : |\n",
      "| : : : : |\n",
      "|\u001b[42m_\u001b[0m| : | : |\n",
      "|Y| : |B: |\n",
      "+---------+\n",
      "  (North)\n",
      "+---------+\n",
      "|R: | : :\u001b[35mG\u001b[0m|\n",
      "| : | : : |\n",
      "|\u001b[42m_\u001b[0m: : : : |\n",
      "| | : | : |\n",
      "|Y| : |B: |\n",
      "+---------+\n",
      "  (North)\n",
      "+---------+\n",
      "|R: | : :\u001b[35mG\u001b[0m|\n",
      "| : | : : |\n",
      "| :\u001b[42m_\u001b[0m: : : |\n",
      "| | : | : |\n",
      "|Y| : |B: |\n",
      "+---------+\n",
      "  (East)\n",
      "+---------+\n",
      "|R: | : :\u001b[35mG\u001b[0m|\n",
      "| : | : : |\n",
      "| : :\u001b[42m_\u001b[0m: : |\n",
      "| | : | : |\n",
      "|Y| : |B: |\n",
      "+---------+\n",
      "  (East)\n",
      "+---------+\n",
      "|R: | : :\u001b[35mG\u001b[0m|\n",
      "| : | : : |\n",
      "| : : :\u001b[42m_\u001b[0m: |\n",
      "| | : | : |\n",
      "|Y| : |B: |\n",
      "+---------+\n",
      "  (East)\n",
      "+---------+\n",
      "|R: | : :\u001b[35mG\u001b[0m|\n",
      "| : | : : |\n",
      "| : : : :\u001b[42m_\u001b[0m|\n",
      "| | : | : |\n",
      "|Y| : |B: |\n",
      "+---------+\n",
      "  (East)\n",
      "+---------+\n",
      "|R: | : :\u001b[35mG\u001b[0m|\n",
      "| : | : :\u001b[42m_\u001b[0m|\n",
      "| : : : : |\n",
      "| | : | : |\n",
      "|Y| : |B: |\n",
      "+---------+\n",
      "  (North)\n",
      "+---------+\n",
      "|R: | : :\u001b[35m\u001b[42mG\u001b[0m\u001b[0m|\n",
      "| : | : : |\n",
      "| : : : : |\n",
      "| | : | : |\n",
      "|Y| : |B: |\n",
      "+---------+\n",
      "  (North)\n",
      "+---------+\n",
      "|R: | : :\u001b[35m\u001b[34;1m\u001b[43mG\u001b[0m\u001b[0m\u001b[0m|\n",
      "| : | : : |\n",
      "| : : : : |\n",
      "| | : | : |\n",
      "|Y| : |B: |\n",
      "+---------+\n",
      "  (Dropoff)\n"
     ]
    }
   ],
   "source": [
    "view_policy(val_iter_policy)"
   ]
  },
  {
   "cell_type": "code",
   "execution_count": 30,
   "metadata": {
    "colab": {
     "base_uri": "https://localhost:8080/"
    },
    "id": "2nV_slKA6ZD0",
    "outputId": "9acecfe5-0ce8-4b32-d6ea-20f593552c5c"
   },
   "outputs": [
    {
     "name": "stdout",
     "output_type": "stream",
     "text": [
      "+---------+\n",
      "|\u001b[35mR\u001b[0m: | :\u001b[43m \u001b[0m:G|\n",
      "| : | : : |\n",
      "| : : : : |\n",
      "| | : | : |\n",
      "|Y| : |\u001b[34;1mB\u001b[0m: |\n",
      "+---------+\n",
      "  (East)\n",
      "+---------+\n",
      "|\u001b[35mR\u001b[0m: | : :G|\n",
      "| : | :\u001b[43m \u001b[0m: |\n",
      "| : : : : |\n",
      "| | : | : |\n",
      "|Y| : |\u001b[34;1mB\u001b[0m: |\n",
      "+---------+\n",
      "  (South)\n",
      "+---------+\n",
      "|\u001b[35mR\u001b[0m: | : :G|\n",
      "| : | : : |\n",
      "| : : :\u001b[43m \u001b[0m: |\n",
      "| | : | : |\n",
      "|Y| : |\u001b[34;1mB\u001b[0m: |\n",
      "+---------+\n",
      "  (South)\n",
      "+---------+\n",
      "|\u001b[35mR\u001b[0m: | : :G|\n",
      "| : | : : |\n",
      "| : : : : |\n",
      "| | : |\u001b[43m \u001b[0m: |\n",
      "|Y| : |\u001b[34;1mB\u001b[0m: |\n",
      "+---------+\n",
      "  (South)\n",
      "+---------+\n",
      "|\u001b[35mR\u001b[0m: | : :G|\n",
      "| : | : : |\n",
      "| : : : : |\n",
      "| | : | : |\n",
      "|Y| : |\u001b[34;1m\u001b[43mB\u001b[0m\u001b[0m: |\n",
      "+---------+\n",
      "  (South)\n",
      "+---------+\n",
      "|\u001b[35mR\u001b[0m: | : :G|\n",
      "| : | : : |\n",
      "| : : : : |\n",
      "| | : | : |\n",
      "|Y| : |\u001b[42mB\u001b[0m: |\n",
      "+---------+\n",
      "  (Pickup)\n",
      "+---------+\n",
      "|\u001b[35mR\u001b[0m: | : :G|\n",
      "| : | : : |\n",
      "| : : : : |\n",
      "| | : |\u001b[42m_\u001b[0m: |\n",
      "|Y| : |B: |\n",
      "+---------+\n",
      "  (North)\n",
      "+---------+\n",
      "|\u001b[35mR\u001b[0m: | : :G|\n",
      "| : | : : |\n",
      "| : : :\u001b[42m_\u001b[0m: |\n",
      "| | : | : |\n",
      "|Y| : |B: |\n",
      "+---------+\n",
      "  (North)\n",
      "+---------+\n",
      "|\u001b[35mR\u001b[0m: | : :G|\n",
      "| : | : : |\n",
      "| : :\u001b[42m_\u001b[0m: : |\n",
      "| | : | : |\n",
      "|Y| : |B: |\n",
      "+---------+\n",
      "  (West)\n",
      "+---------+\n",
      "|\u001b[35mR\u001b[0m: | : :G|\n",
      "| : | : : |\n",
      "| :\u001b[42m_\u001b[0m: : : |\n",
      "| | : | : |\n",
      "|Y| : |B: |\n",
      "+---------+\n",
      "  (West)\n",
      "+---------+\n",
      "|\u001b[35mR\u001b[0m: | : :G|\n",
      "| :\u001b[42m_\u001b[0m| : : |\n",
      "| : : : : |\n",
      "| | : | : |\n",
      "|Y| : |B: |\n",
      "+---------+\n",
      "  (North)\n",
      "+---------+\n",
      "|\u001b[35mR\u001b[0m:\u001b[42m_\u001b[0m| : :G|\n",
      "| : | : : |\n",
      "| : : : : |\n",
      "| | : | : |\n",
      "|Y| : |B: |\n",
      "+---------+\n",
      "  (North)\n",
      "+---------+\n",
      "|\u001b[35m\u001b[42mR\u001b[0m\u001b[0m: | : :G|\n",
      "| : | : : |\n",
      "| : : : : |\n",
      "| | : | : |\n",
      "|Y| : |B: |\n",
      "+---------+\n",
      "  (West)\n",
      "+---------+\n",
      "|\u001b[35m\u001b[34;1m\u001b[43mR\u001b[0m\u001b[0m\u001b[0m: | : :G|\n",
      "| : | : : |\n",
      "| : : : : |\n",
      "| | : | : |\n",
      "|Y| : |B: |\n",
      "+---------+\n",
      "  (Dropoff)\n"
     ]
    }
   ],
   "source": [
    "view_policy(Q_learn_pol)"
   ]
  },
  {
   "cell_type": "code",
   "execution_count": 43,
   "metadata": {
    "id": "Lej0-_W36dj6"
   },
   "outputs": [],
   "source": [
    "from IPython.display import clear_output\n",
    "\n",
    "from matplotlib import animation\n",
    "from IPython.display import display\n",
    "\n",
    "\n",
    "def view_policy_anim(policy):\n",
    "    penalties, reward = 0, 0\n",
    "\n",
    "    frames = [] # for animation\n",
    "\n",
    "    done = False\n",
    "    curr_state = env.reset()\n",
    "    while not done:\n",
    "        action = np.argmax(policy[0][curr_state])\n",
    "        state, reward, done, info = env.step(action)\n",
    "        curr_state = state\n",
    "        if reward == -10:\n",
    "            penalties += 1\n",
    "\n",
    "        # Put each rendered frame into dict for animation\n",
    "        frames.append({\n",
    "            'frame': env.render(mode='ansi'),\n",
    "            'state': state,\n",
    "            'action': action,\n",
    "            'reward': reward\n",
    "            }\n",
    "        )\n",
    "        print(frames)\n",
    "    def print_frames(frames):\n",
    "        \n",
    "        for i, frame in enumerate(frames):\n",
    "            clear_output(wait=True)\n",
    "            print(frame['frame'])\n",
    "            print(f\"Timestep: {i + 1}\")\n",
    "            print(f\"State: {frame['state']}\")\n",
    "            print(f\"Action: {frame['action']}\")\n",
    "            print(f\"Reward: {frame['reward']}\")\n",
    "            sleep(.7)\n",
    "\n",
    "    print_frames(frames)"
   ]
  },
  {
   "cell_type": "code",
   "execution_count": 44,
   "metadata": {
    "colab": {
     "base_uri": "https://localhost:8080/"
    },
    "id": "RKA9SpXW6f_T",
    "outputId": "d4d247ec-2004-4345-d5af-cce7a670ab2d"
   },
   "outputs": [
    {
     "name": "stdout",
     "output_type": "stream",
     "text": [
      "+---------+\n",
      "|R: | : :\u001b[35m\u001b[34;1m\u001b[43mG\u001b[0m\u001b[0m\u001b[0m|\n",
      "| : | : : |\n",
      "| : : : : |\n",
      "| | : | : |\n",
      "|Y| : |B: |\n",
      "+---------+\n",
      "  (Dropoff)\n",
      "\n",
      "Timestep: 18\n",
      "State: 85\n",
      "Action: 5\n",
      "Reward: 20\n"
     ]
    }
   ],
   "source": [
    "view_policy_anim(val_iter_policy)"
   ]
  },
  {
   "cell_type": "code",
   "execution_count": 45,
   "metadata": {
    "colab": {
     "base_uri": "https://localhost:8080/"
    },
    "id": "6VuGuw2G8MX1",
    "outputId": "a08e2f16-23cf-400b-bb2e-e77c9437e696"
   },
   "outputs": [
    {
     "name": "stdout",
     "output_type": "stream",
     "text": [
      "+---------+\n",
      "|R: | : :G|\n",
      "| : | : : |\n",
      "| : : : : |\n",
      "| | : | : |\n",
      "|\u001b[35m\u001b[34;1m\u001b[43mY\u001b[0m\u001b[0m\u001b[0m| : |B: |\n",
      "+---------+\n",
      "  (Dropoff)\n",
      "\n",
      "Timestep: 13\n",
      "State: 410\n",
      "Action: 5\n",
      "Reward: 20\n"
     ]
    }
   ],
   "source": [
    "view_policy_anim(pol_iter_policy)"
   ]
  },
  {
   "cell_type": "code",
   "execution_count": 46,
   "metadata": {
    "colab": {
     "base_uri": "https://localhost:8080/"
    },
    "id": "xyOclc6Y7_Qq",
    "outputId": "44c34996-386b-4999-841d-33e88759e9f8"
   },
   "outputs": [
    {
     "name": "stdout",
     "output_type": "stream",
     "text": [
      "+---------+\n",
      "|R: | : :G|\n",
      "| : | : : |\n",
      "| : : : : |\n",
      "| | : | : |\n",
      "|\u001b[35m\u001b[34;1m\u001b[43mY\u001b[0m\u001b[0m\u001b[0m| : |B: |\n",
      "+---------+\n",
      "  (Dropoff)\n",
      "\n",
      "Timestep: 9\n",
      "State: 410\n",
      "Action: 5\n",
      "Reward: 20\n"
     ]
    }
   ],
   "source": [
    "view_policy_anim(Q_learn_pol)"
   ]
  }
 ],
 "metadata": {
  "colab": {
   "name": "DM - ASSGN PRES - BATCH 2.ipynb",
   "provenance": []
  },
  "kernelspec": {
   "display_name": "Python 3",
   "language": "python",
   "name": "python3"
  },
  "language_info": {
   "codemirror_mode": {
    "name": "ipython",
    "version": 3
   },
   "file_extension": ".py",
   "mimetype": "text/x-python",
   "name": "python",
   "nbconvert_exporter": "python",
   "pygments_lexer": "ipython3",
   "version": "3.7.1"
  }
 },
 "nbformat": 4,
 "nbformat_minor": 1
}
